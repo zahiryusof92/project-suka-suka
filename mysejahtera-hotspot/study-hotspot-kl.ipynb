{
 "cells": [
  {
   "cell_type": "code",
   "execution_count": 1,
   "id": "98b1f952",
   "metadata": {},
   "outputs": [],
   "source": [
    "# !wget https://raw.githubusercontent.com/huseinzol05/project-suka-suka/main/mysejahtera-hotspot/data/Federal%20Territory%20of%20Kuala%20Lumpur-points.json-points-cases.json\n",
    "# https://pysal.org/esda/notebooks/adbscan_berlin_example.html"
   ]
  },
  {
   "cell_type": "code",
   "execution_count": 2,
   "id": "24516e40",
   "metadata": {},
   "outputs": [
    {
     "name": "stderr",
     "output_type": "stream",
     "text": [
      "/usr/lib/python3/dist-packages/requests/__init__.py:80: RequestsDependencyWarning: urllib3 (1.22) or chardet (4.0.0) doesn't match a supported version!\n",
      "  RequestsDependencyWarning)\n"
     ]
    }
   ],
   "source": [
    "import json\n",
    "import pandas as pd\n",
    "import geopandas\n",
    "from shapely.geometry import Point\n",
    "from geopandas import GeoDataFrame\n",
    "import libpysal as lps\n",
    "import numpy as np\n",
    "import contextily as cx"
   ]
  },
  {
   "cell_type": "code",
   "execution_count": 3,
   "id": "1945f2eb",
   "metadata": {},
   "outputs": [],
   "source": [
    "import warnings\n",
    "import pandas\n",
    "import numpy as np\n",
    "from libpysal.cg.alpha_shapes import alpha_shape_auto\n",
    "from scipy.spatial import cKDTree\n",
    "from collections import Counter\n",
    "from sklearn.cluster import DBSCAN\n",
    "from sklearn.neighbors import KNeighborsClassifier\n",
    "from sklearn.base import BaseEstimator as _BaseEstimator, ClusterMixin as _ClusterMixin"
   ]
  },
  {
   "cell_type": "code",
   "execution_count": 4,
   "id": "82d57fa4",
   "metadata": {},
   "outputs": [
    {
     "data": {
      "text/html": [
       "<div>\n",
       "<style scoped>\n",
       "    .dataframe tbody tr th:only-of-type {\n",
       "        vertical-align: middle;\n",
       "    }\n",
       "\n",
       "    .dataframe tbody tr th {\n",
       "        vertical-align: top;\n",
       "    }\n",
       "\n",
       "    .dataframe thead th {\n",
       "        text-align: right;\n",
       "    }\n",
       "</style>\n",
       "<table border=\"1\" class=\"dataframe\">\n",
       "  <thead>\n",
       "    <tr style=\"text-align: right;\">\n",
       "      <th></th>\n",
       "      <th>0</th>\n",
       "      <th>1</th>\n",
       "      <th>2</th>\n",
       "    </tr>\n",
       "  </thead>\n",
       "  <tbody>\n",
       "    <tr>\n",
       "      <th>0</th>\n",
       "      <td>3.044052</td>\n",
       "      <td>101.670963</td>\n",
       "      <td>28</td>\n",
       "    </tr>\n",
       "    <tr>\n",
       "      <th>1</th>\n",
       "      <td>3.044052</td>\n",
       "      <td>101.674963</td>\n",
       "      <td>23</td>\n",
       "    </tr>\n",
       "    <tr>\n",
       "      <th>2</th>\n",
       "      <td>3.044052</td>\n",
       "      <td>101.678963</td>\n",
       "      <td>13</td>\n",
       "    </tr>\n",
       "    <tr>\n",
       "      <th>3</th>\n",
       "      <td>3.044052</td>\n",
       "      <td>101.682963</td>\n",
       "      <td>17</td>\n",
       "    </tr>\n",
       "    <tr>\n",
       "      <th>4</th>\n",
       "      <td>3.044052</td>\n",
       "      <td>101.686963</td>\n",
       "      <td>17</td>\n",
       "    </tr>\n",
       "  </tbody>\n",
       "</table>\n",
       "</div>"
      ],
      "text/plain": [
       "          0           1   2\n",
       "0  3.044052  101.670963  28\n",
       "1  3.044052  101.674963  23\n",
       "2  3.044052  101.678963  13\n",
       "3  3.044052  101.682963  17\n",
       "4  3.044052  101.686963  17"
      ]
     },
     "execution_count": 4,
     "metadata": {},
     "output_type": "execute_result"
    }
   ],
   "source": [
    "with open('Federal Territory of Kuala Lumpur-points.json-points-cases.json') as fopen:\n",
    "    data = json.load(fopen)\n",
    "    \n",
    "df = pd.DataFrame(data)\n",
    "df.head()"
   ]
  },
  {
   "cell_type": "code",
   "execution_count": 5,
   "id": "bb770fc6",
   "metadata": {},
   "outputs": [
    {
     "data": {
      "text/plain": [
       "array([  1. ,   8. ,  14. ,  21. ,  27. ,  33. ,  38. ,  44. ,  50. ,\n",
       "        57. ,  64. ,  70. ,  77. ,  85.3,  99. , 114. , 128.6, 145.7,\n",
       "       171. , 204.9, 431. ])"
      ]
     },
     "execution_count": 5,
     "metadata": {},
     "output_type": "execute_result"
    }
   ],
   "source": [
    "nonzero = df[2][df[2] > 0]\n",
    "step = 0.05\n",
    "arange = np.arange(0, 1.0 + step, step = step)\n",
    "percentiles = np.percentile(nonzero, arange * 100)\n",
    "percentiles"
   ]
  },
  {
   "cell_type": "code",
   "execution_count": 6,
   "id": "13ceb1fd",
   "metadata": {
    "scrolled": true
   },
   "outputs": [
    {
     "data": {
      "text/plain": [
       "[[1, 8],\n",
       " [8, 14],\n",
       " [14, 21],\n",
       " [21, 27],\n",
       " [27, 33],\n",
       " [33, 38],\n",
       " [38, 44],\n",
       " [44, 50],\n",
       " [50, 57],\n",
       " [57, 64],\n",
       " [64, 70],\n",
       " [70, 77],\n",
       " [77, 85],\n",
       " [85, 99],\n",
       " [99, 114],\n",
       " [114, 128],\n",
       " [128, 145],\n",
       " [145, 171],\n",
       " [171, 204],\n",
       " [204, 432]]"
      ]
     },
     "execution_count": 6,
     "metadata": {},
     "output_type": "execute_result"
    }
   ],
   "source": [
    "boundaries = [percentiles[i: i + 2].tolist() for i in range(len(percentiles))][:-1]\n",
    "boundaries = [[int(i[0]), int(i[1])] for i in boundaries]\n",
    "boundaries[-1][-1] += 1\n",
    "boundaries"
   ]
  },
  {
   "cell_type": "code",
   "execution_count": 7,
   "id": "2f16bc68",
   "metadata": {},
   "outputs": [
    {
     "name": "stderr",
     "output_type": "stream",
     "text": [
      "/home/ubuntu/.local/lib/python3.7/site-packages/pyproj/crs/crs.py:68: FutureWarning: '+init=<authority>:<code>' syntax is deprecated. '<authority>:<code>' is the preferred initialization method. When making the change, be mindful of axis order changes: https://pyproj4.github.io/pyproj/stable/gotchas.html#axis-order-changes-in-proj-6\n",
      "  return _prepare_from_string(\" \".join(pjargs))\n"
     ]
    },
    {
     "data": {
      "image/png": "[encoded data removed]",
      "text/plain": [
       "<Figure size 432x288 with 1 Axes>"
      ]
     },
     "metadata": {
      "needs_background": "light"
     },
     "output_type": "display_data"
    }
   ],
   "source": [
    "geometry = [Point(xy) for xy in zip(df[0], df[1])]\n",
    "crs = {'init': 'epsg:4326'}\n",
    "bl_gdf = GeoDataFrame(df, crs=crs, geometry=geopandas.points_from_xy(df[1], df[0]))\n",
    "db = bl_gdf.to_crs(epsg=5243)\n",
    "db.to_crs('crs').plot(markersize=0.1, color='orange')\n",
    "db[\"X\"] = db.geometry.x\n",
    "db[\"Y\"] = db.geometry.y"
   ]
  },
  {
   "cell_type": "code",
   "execution_count": 8,
   "id": "a8f7a877",
   "metadata": {},
   "outputs": [],
   "source": [
    "from libpysal.cg.alpha_shapes import alpha_shape_auto\n",
    "\n",
    "def get_cluster_boundary(labels, xys, scores, xy=[\"X\", \"Y\"], crs=None, step=1):\n",
    "    try:\n",
    "        from geopandas import GeoSeries\n",
    "    except ModuleNotFoundError:\n",
    "\n",
    "        def GeoSeries(data, index=None, crs=None):\n",
    "            return list(data)\n",
    "\n",
    "    lbl_type = type(labels.iloc[0])\n",
    "    noise = lbl_type(-1)\n",
    "    ids_in_cluster = labels[labels != noise].index\n",
    "    g = xys.loc[ids_in_cluster, xy].groupby(labels[ids_in_cluster])\n",
    "    polys = []\n",
    "    cluster_lbls = []\n",
    "    y, totals = [], []\n",
    "    for sub in g.groups:\n",
    "        try:\n",
    "            polys.append(_asa((xys.loc[g.groups[sub], xy].values, 1)))\n",
    "            y.append(scores.loc[g.groups[sub]].mean())\n",
    "            totals.append(scores.loc[g.groups[sub]].shape[0])\n",
    "            cluster_lbls.append(sub)\n",
    "        except:\n",
    "            pass\n",
    "    polys = GeoSeries(polys, index=cluster_lbls, crs=crs)\n",
    "    return polys, y, totals\n",
    "\n",
    "\n",
    "def _asa(pts_s):\n",
    "    return alpha_shape_auto(pts_s[0], step=pts_s[1])"
   ]
  },
  {
   "cell_type": "code",
   "execution_count": 12,
   "id": "2c487561",
   "metadata": {
    "scrolled": true
   },
   "outputs": [
    {
     "name": "stdout",
     "output_type": "stream",
     "text": [
      "0 [1, 8]\n",
      "[-1  0  1  2  3  4  5]\n"
     ]
    },
    {
     "name": "stderr",
     "output_type": "stream",
     "text": [
      "/home/ubuntu/.local/lib/python3.7/site-packages/libpysal/cg/alpha_shapes.py:574: UserWarning: Numba not imported, so alpha shape construction may be slower than expected.\n",
      "  warn(NUMBA_WARN)\n"
     ]
    },
    {
     "name": "stdout",
     "output_type": "stream",
     "text": [
      "1 [8, 14]\n",
      "[-1  0  1  2  3  4  5  6  7  8]\n"
     ]
    },
    {
     "name": "stderr",
     "output_type": "stream",
     "text": [
      "/home/ubuntu/.local/lib/python3.7/site-packages/libpysal/cg/alpha_shapes.py:574: UserWarning: Numba not imported, so alpha shape construction may be slower than expected.\n",
      "  warn(NUMBA_WARN)\n"
     ]
    },
    {
     "name": "stdout",
     "output_type": "stream",
     "text": [
      "2 [14, 21]\n",
      "[-1  0  1  2  3  4  5  6  7  8  9 10 11]\n"
     ]
    },
    {
     "name": "stderr",
     "output_type": "stream",
     "text": [
      "/home/ubuntu/.local/lib/python3.7/site-packages/libpysal/cg/alpha_shapes.py:574: UserWarning: Numba not imported, so alpha shape construction may be slower than expected.\n",
      "  warn(NUMBA_WARN)\n"
     ]
    },
    {
     "name": "stdout",
     "output_type": "stream",
     "text": [
      "3 [21, 27]\n",
      "[-1  0  1  2  3  4  5  6  7]\n"
     ]
    },
    {
     "name": "stderr",
     "output_type": "stream",
     "text": [
      "/home/ubuntu/.local/lib/python3.7/site-packages/libpysal/cg/alpha_shapes.py:574: UserWarning: Numba not imported, so alpha shape construction may be slower than expected.\n",
      "  warn(NUMBA_WARN)\n"
     ]
    },
    {
     "name": "stdout",
     "output_type": "stream",
     "text": [
      "4 [27, 33]\n",
      "[-1  0  1]\n"
     ]
    },
    {
     "name": "stderr",
     "output_type": "stream",
     "text": [
      "/home/ubuntu/.local/lib/python3.7/site-packages/libpysal/cg/alpha_shapes.py:574: UserWarning: Numba not imported, so alpha shape construction may be slower than expected.\n",
      "  warn(NUMBA_WARN)\n"
     ]
    },
    {
     "name": "stdout",
     "output_type": "stream",
     "text": [
      "5 [33, 38]\n",
      "[-1  0  1  2  3  4  5]\n"
     ]
    },
    {
     "name": "stderr",
     "output_type": "stream",
     "text": [
      "/home/ubuntu/.local/lib/python3.7/site-packages/libpysal/cg/alpha_shapes.py:574: UserWarning: Numba not imported, so alpha shape construction may be slower than expected.\n",
      "  warn(NUMBA_WARN)\n"
     ]
    },
    {
     "name": "stdout",
     "output_type": "stream",
     "text": [
      "6 [38, 44]\n",
      "[-1  0  1  2  3  4  5]\n"
     ]
    },
    {
     "name": "stderr",
     "output_type": "stream",
     "text": [
      "/home/ubuntu/.local/lib/python3.7/site-packages/libpysal/cg/alpha_shapes.py:574: UserWarning: Numba not imported, so alpha shape construction may be slower than expected.\n",
      "  warn(NUMBA_WARN)\n"
     ]
    },
    {
     "name": "stdout",
     "output_type": "stream",
     "text": [
      "7 [44, 50]\n",
      "[-1  0  1  2  3  4]\n"
     ]
    },
    {
     "name": "stderr",
     "output_type": "stream",
     "text": [
      "/home/ubuntu/.local/lib/python3.7/site-packages/libpysal/cg/alpha_shapes.py:574: UserWarning: Numba not imported, so alpha shape construction may be slower than expected.\n",
      "  warn(NUMBA_WARN)\n"
     ]
    },
    {
     "name": "stdout",
     "output_type": "stream",
     "text": [
      "8 [50, 57]\n",
      "[-1  0  1  2  3]\n"
     ]
    },
    {
     "name": "stderr",
     "output_type": "stream",
     "text": [
      "/home/ubuntu/.local/lib/python3.7/site-packages/libpysal/cg/alpha_shapes.py:574: UserWarning: Numba not imported, so alpha shape construction may be slower than expected.\n",
      "  warn(NUMBA_WARN)\n"
     ]
    },
    {
     "name": "stdout",
     "output_type": "stream",
     "text": [
      "9 [57, 64]\n",
      "[-1  0  1  2  3]\n"
     ]
    },
    {
     "name": "stderr",
     "output_type": "stream",
     "text": [
      "/home/ubuntu/.local/lib/python3.7/site-packages/libpysal/cg/alpha_shapes.py:574: UserWarning: Numba not imported, so alpha shape construction may be slower than expected.\n",
      "  warn(NUMBA_WARN)\n"
     ]
    },
    {
     "name": "stdout",
     "output_type": "stream",
     "text": [
      "10 [64, 70]\n",
      "[-1  0  1  2]\n"
     ]
    },
    {
     "name": "stderr",
     "output_type": "stream",
     "text": [
      "/home/ubuntu/.local/lib/python3.7/site-packages/libpysal/cg/alpha_shapes.py:574: UserWarning: Numba not imported, so alpha shape construction may be slower than expected.\n",
      "  warn(NUMBA_WARN)\n"
     ]
    },
    {
     "name": "stdout",
     "output_type": "stream",
     "text": [
      "11 [70, 77]\n",
      "[-1  0  1  2  3  4]\n"
     ]
    },
    {
     "name": "stderr",
     "output_type": "stream",
     "text": [
      "/home/ubuntu/.local/lib/python3.7/site-packages/libpysal/cg/alpha_shapes.py:574: UserWarning: Numba not imported, so alpha shape construction may be slower than expected.\n",
      "  warn(NUMBA_WARN)\n"
     ]
    },
    {
     "name": "stdout",
     "output_type": "stream",
     "text": [
      "12 [77, 85]\n",
      "[-1  0  1  2  3  4  5  6  7]\n"
     ]
    },
    {
     "name": "stderr",
     "output_type": "stream",
     "text": [
      "/home/ubuntu/.local/lib/python3.7/site-packages/libpysal/cg/alpha_shapes.py:574: UserWarning: Numba not imported, so alpha shape construction may be slower than expected.\n",
      "  warn(NUMBA_WARN)\n"
     ]
    },
    {
     "name": "stdout",
     "output_type": "stream",
     "text": [
      "13 [85, 99]\n",
      "[-1  0  1  2  3  4]\n"
     ]
    },
    {
     "name": "stderr",
     "output_type": "stream",
     "text": [
      "/home/ubuntu/.local/lib/python3.7/site-packages/libpysal/cg/alpha_shapes.py:574: UserWarning: Numba not imported, so alpha shape construction may be slower than expected.\n",
      "  warn(NUMBA_WARN)\n"
     ]
    },
    {
     "name": "stdout",
     "output_type": "stream",
     "text": [
      "14 [99, 114]\n",
      "[-1  0  1  2]\n"
     ]
    },
    {
     "name": "stderr",
     "output_type": "stream",
     "text": [
      "/home/ubuntu/.local/lib/python3.7/site-packages/libpysal/cg/alpha_shapes.py:574: UserWarning: Numba not imported, so alpha shape construction may be slower than expected.\n",
      "  warn(NUMBA_WARN)\n"
     ]
    },
    {
     "name": "stdout",
     "output_type": "stream",
     "text": [
      "15 [114, 128]\n",
      "[-1  0  1  2  3  4  5]\n"
     ]
    },
    {
     "name": "stderr",
     "output_type": "stream",
     "text": [
      "/home/ubuntu/.local/lib/python3.7/site-packages/libpysal/cg/alpha_shapes.py:574: UserWarning: Numba not imported, so alpha shape construction may be slower than expected.\n",
      "  warn(NUMBA_WARN)\n"
     ]
    },
    {
     "name": "stdout",
     "output_type": "stream",
     "text": [
      "16 [128, 145]\n",
      "[-1  0  1  2  3  4  5  6  7]\n"
     ]
    },
    {
     "name": "stderr",
     "output_type": "stream",
     "text": [
      "/home/ubuntu/.local/lib/python3.7/site-packages/libpysal/cg/alpha_shapes.py:574: UserWarning: Numba not imported, so alpha shape construction may be slower than expected.\n",
      "  warn(NUMBA_WARN)\n"
     ]
    },
    {
     "name": "stdout",
     "output_type": "stream",
     "text": [
      "17 [145, 171]\n",
      "[-1  0  1  2  3  4  5  6]\n"
     ]
    },
    {
     "name": "stderr",
     "output_type": "stream",
     "text": [
      "/home/ubuntu/.local/lib/python3.7/site-packages/libpysal/cg/alpha_shapes.py:574: UserWarning: Numba not imported, so alpha shape construction may be slower than expected.\n",
      "  warn(NUMBA_WARN)\n",
      "/home/ubuntu/.local/lib/python3.7/site-packages/libpysal/cg/alpha_shapes.py:117: RuntimeWarning: invalid value encountered in sqrt\n",
      "  den = np.sqrt((ab + bc + ca) * (bc + ca - ab) * (ca + ab - bc) * (ab + bc - ca))\n"
     ]
    },
    {
     "name": "stdout",
     "output_type": "stream",
     "text": [
      "18 [171, 204]\n",
      "[-1  0  1  2  3  4  5  6  7  8  9]\n"
     ]
    },
    {
     "name": "stderr",
     "output_type": "stream",
     "text": [
      "/home/ubuntu/.local/lib/python3.7/site-packages/libpysal/cg/alpha_shapes.py:574: UserWarning: Numba not imported, so alpha shape construction may be slower than expected.\n",
      "  warn(NUMBA_WARN)\n"
     ]
    },
    {
     "name": "stdout",
     "output_type": "stream",
     "text": [
      "19 [204, 432]\n",
      "[-1  0  1  2  3  4]\n"
     ]
    },
    {
     "name": "stderr",
     "output_type": "stream",
     "text": [
      "/home/ubuntu/.local/lib/python3.7/site-packages/libpysal/cg/alpha_shapes.py:574: UserWarning: Numba not imported, so alpha shape construction may be slower than expected.\n",
      "  warn(NUMBA_WARN)\n"
     ]
    }
   ],
   "source": [
    "from sklearn.cluster import DBSCAN\n",
    "\n",
    "results = {}\n",
    "color = {0: '#0000FF', 1: '#0000FF', 2: '#0000FF', 3: '#0000FF',\n",
    "         4: '#0000FF', 5: '#0000FF', 6: '#0000FF', 7: '#FFFF00',\n",
    "         8: '#FFFF00', 9: '#FFFF00', 10: '#FFFF00', 11: '#FFFF00',\n",
    "         12: '#FFFF00', 13: '#FF0000', 14: '#FF0000', 15: '#FF0000',\n",
    "         16: '#FF0000', 17: '#FF0000', 18: '#FF0000', 19: '#FF0000'}\n",
    "\n",
    "already_processed = set()\n",
    "for i in range(len(boundaries)):\n",
    "    print(i, boundaries[i])\n",
    "    \n",
    "    if (boundaries[i][1] - boundaries[i][0]) < 1:\n",
    "        continue\n",
    "        \n",
    "    if str(boundaries[i]) in already_processed:\n",
    "        continue\n",
    "        \n",
    "    dbscan = DBSCAN(eps=0.005, min_samples=3)\n",
    "    filtered_df = df[(df[2] >= boundaries[i][0]) & (df[2] < boundaries[i][1])]\n",
    "    filtered_df_index = filtered_df.index\n",
    "    clustering = dbscan.fit(filtered_df[[0,1]].values)\n",
    "\n",
    "    labels = np.full(shape=df.shape[0], fill_value=-1)\n",
    "    for no in range(len(clustering.labels_)):\n",
    "        labels[filtered_df_index[no]] = clustering.labels_[no]\n",
    "        \n",
    "    print(np.unique(labels))\n",
    "    \n",
    "    polys, ys, totals = get_cluster_boundary(pd.Series(labels), db, db[2], crs=db.crs)\n",
    "    polys = polys.to_crs('crs')\n",
    "\n",
    "    polygons = []\n",
    "    for k in range(len(polys)):\n",
    "        polygons_ = []\n",
    "        x, y = polys.iloc[k].exterior.coords.xy\n",
    "        for x_, y_ in zip(x, y):\n",
    "            polygons_.append({'lat': y_, 'lng': x_})\n",
    "        polygons.append(polygons_)\n",
    "\n",
    "    results[i] = {'polygons': polygons, 'data': [ys, totals], 'color': color[i]}\n",
    "    already_processed.add(str(boundaries))"
   ]
  },
  {
   "cell_type": "code",
   "execution_count": 13,
   "id": "07824b26",
   "metadata": {},
   "outputs": [
    {
     "data": {
      "text/plain": [
       "dict_keys([0, 1, 2, 3, 4, 5, 6, 7, 8, 9, 10, 11, 12, 13, 14, 15, 16, 17, 18, 19])"
      ]
     },
     "execution_count": 13,
     "metadata": {},
     "output_type": "execute_result"
    }
   ],
   "source": [
    "results.keys()"
   ]
  },
  {
   "cell_type": "code",
   "execution_count": 15,
   "id": "9cd712bb",
   "metadata": {},
   "outputs": [],
   "source": [
    "with open('data/kl.json', 'w') as fopen:\n",
    "    json.dump(results, fopen)"
   ]
  }
 ],
 "metadata": {
  "kernelspec": {
   "display_name": "Python 3",
   "language": "python",
   "name": "python3"
  },
  "language_info": {
   "codemirror_mode": {
    "name": "ipython",
    "version": 3
   },
   "file_extension": ".py",
   "mimetype": "text/x-python",
   "name": "python",
   "nbconvert_exporter": "python",
   "pygments_lexer": "ipython3",
   "version": "3.7.10"
  }
 },
 "nbformat": 4,
 "nbformat_minor": 5
}
